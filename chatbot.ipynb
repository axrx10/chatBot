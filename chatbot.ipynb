{
 "cells": [
  {
   "cell_type": "code",
   "execution_count": null,
   "metadata": {},
   "outputs": [],
   "source": [
    "import json\n",
    "\n",
    "def load_data(file_path):\n",
    "    with open(file_path, 'r') as file:\n",
    "        data = json.load(file)\n",
    "    \n",
    "    input_texts, target_texts = [], []\n",
    "    for item in data:\n",
    "        utterances = item['utterances']\n",
    "        input_text = utterances[0].split(\": \")[1]\n",
    "        target_text = utterances[1].split(\": \")[1]\n",
    "        input_texts.append(input_text)\n",
    "        target_texts.append(target_text)\n",
    "    \n",
    "    return input_texts, target_texts\n",
    "\n",
    "train_inputs, train_targets = load_data('english-train.json')\n",
    "dev_inputs, dev_targets = load_data('english-dev.json')\n",
    "test_inputs, test_targets = load_data('english-test.json')\n"
   ]
  },
  {
   "cell_type": "code",
   "execution_count": null,
   "metadata": {},
   "outputs": [],
   "source": [
    "from keras.preprocessing.text import Tokenizer\n",
    "from keras.utils import pad_sequences\n",
    "\n",
    "def tokenize_data(input_texts, target_texts):\n",
    "    tokenizer = Tokenizer()\n",
    "    tokenizer.fit_on_texts(input_texts + target_texts)\n",
    "    input_sequences = tokenizer.texts_to_sequences(input_texts)\n",
    "    target_sequences = tokenizer.texts_to_sequences(target_texts)\n",
    "\n",
    "    max_input_length = max(len(seq) for seq in input_sequences)\n",
    "    max_target_length = max(len(seq) for seq in target_sequences)\n",
    "\n",
    "    input_sequences = pad_sequences(input_sequences, maxlen=max_input_length, padding='post')\n",
    "    target_sequences = pad_sequences(target_sequences, maxlen=max_target_length, padding='post')\n",
    "    \n",
    "    return tokenizer, input_sequences, target_sequences, max_input_length, max_target_length\n",
    "\n",
    "tokenizer, train_input_sequences, train_target_sequences, max_input_length, max_target_length = tokenize_data(train_inputs, train_targets)"
   ]
  },
  {
   "cell_type": "code",
   "execution_count": null,
   "metadata": {},
   "outputs": [],
   "source": [
    "from keras.models import Model\n",
    "from keras.layers import Input, LSTM, Dense, Embedding\n",
    "\n",
    "def build_model(input_length, target_length, vocab_size, embedding_dim=256, latent_dim=256):\n",
    "    # Encoder\n",
    "    encoder_inputs = Input(shape=(input_length,))\n",
    "    encoder_embedding = Embedding(vocab_size, embedding_dim)(encoder_inputs)\n",
    "    encoder_lstm = LSTM(latent_dim, return_state=True)\n",
    "    _, state_h, state_c = encoder_lstm(encoder_embedding)\n",
    "    encoder_states = [state_h, state_c]\n",
    "\n",
    "    # Decoder\n",
    "    decoder_inputs = Input(shape=(target_length,))\n",
    "    decoder_embedding = Embedding(vocab_size, embedding_dim)(decoder_inputs)\n",
    "    decoder_lstm = LSTM(latent_dim, return_sequences=True, return_state=True)\n",
    "    decoder_outputs, _, _ = decoder_lstm(decoder_embedding, initial_state=encoder_states)\n",
    "    decoder_dense = Dense(vocab_size, activation='softmax')\n",
    "    decoder_outputs = decoder_dense(decoder_outputs)\n",
    "\n",
    "    model = Model([encoder_inputs, decoder_inputs], decoder_outputs)\n",
    "\n",
    "    return model\n",
    "\n",
    "model = build_model(max_input_length, max_target_length, len(tokenizer.word_index) + 1)\n",
    "model.compile(optimizer='rmsprop', loss='categorical_crossentropy')\n"
   ]
  },
  {
   "cell_type": "code",
   "execution_count": null,
   "metadata": {},
   "outputs": [],
   "source": [
    "import numpy as np\n",
    "from keras.utils import to_categorical\n",
    "\n",
    "def to_one_hot(sequences, num_classes):\n",
    "    one_hot_targets = np.zeros((len(sequences), sequences.shape[1], num_classes))\n",
    "    for i, sequence in enumerate(sequences):\n",
    "        one_hot_targets[i] = to_categorical(sequence, num_classes=num_classes)\n",
    "    return one_hot_targets\n",
    "\n",
    "train_target_one_hot = to_one_hot(train_target_sequences, len(tokenizer.word_index) + 1)\n",
    "model.fit([train_input_sequences, train_target_sequences], train_target_one_hot, epochs=20, batch_size=64)\n"
   ]
  }
 ],
 "metadata": {
  "kernelspec": {
   "display_name": "Python 3",
   "language": "python",
   "name": "python3"
  },
  "language_info": {
   "codemirror_mode": {
    "name": "ipython",
    "version": 3
   },
   "file_extension": ".py",
   "mimetype": "text/x-python",
   "name": "python",
   "nbconvert_exporter": "python",
   "pygments_lexer": "ipython3",
   "version": "3.10.11"
  },
  "orig_nbformat": 4
 },
 "nbformat": 4,
 "nbformat_minor": 2
}
